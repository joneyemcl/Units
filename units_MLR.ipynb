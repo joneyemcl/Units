{
 "cells": [
  {
   "cell_type": "code",
   "execution_count": 1,
   "id": "458d825c",
   "metadata": {},
   "outputs": [],
   "source": [
    "import pandas as pd\n",
    "from sklearn.preprocessing import LabelEncoder\n",
    "from sklearn.feature_extraction.text import TfidfVectorizer\n",
    "from sklearn.model_selection import train_test_split\n",
    "from sklearn.linear_model import LogisticRegression\n",
    "from sklearn.metrics import accuracy_score, classification_report, confusion_matrix\n",
    "from sklearn.feature_extraction.text import CountVectorizer\n",
    "from sklearn.feature_extraction.text import TfidfVectorizer"
   ]
  },
  {
   "cell_type": "code",
   "execution_count": 2,
   "id": "e2758448",
   "metadata": {},
   "outputs": [
    {
     "name": "stderr",
     "output_type": "stream",
     "text": [
      "C:\\Users\\LatimerJ\\AppData\\Local\\Temp\\4\\ipykernel_13920\\1421264086.py:14: SettingWithCopyWarning: \n",
      "A value is trying to be set on a copy of a slice from a DataFrame\n",
      "\n",
      "See the caveats in the documentation: https://pandas.pydata.org/pandas-docs/stable/user_guide/indexing.html#returning-a-view-versus-a-copy\n",
      "  train_data.dropna(subset=['description'], inplace=True)\n",
      "C:\\Users\\LatimerJ\\AppData\\Local\\Temp\\4\\ipykernel_13920\\1421264086.py:15: SettingWithCopyWarning: \n",
      "A value is trying to be set on a copy of a slice from a DataFrame\n",
      "\n",
      "See the caveats in the documentation: https://pandas.pydata.org/pandas-docs/stable/user_guide/indexing.html#returning-a-view-versus-a-copy\n",
      "  predict_data.dropna(subset=['description'], inplace=True)\n"
     ]
    }
   ],
   "source": [
    "# Load data\n",
    "file_path = '2024_03_numunit_withOMOPtarget.csv'\n",
    "data = pd.read_csv(file_path)\n",
    "data.dropna(subset=['description'], inplace=True)\n",
    "\n",
    "# data.head()\n",
    "\n",
    "\n",
    "# Separate the data into training and prediction datasets\n",
    "train_data = data.dropna(subset=['source_code_description'])\n",
    "predict_data = data[data['source_code_description'].isna()]\n",
    "\n",
    "# Drop rows with NaN values in 'description' column from the training data\n",
    "train_data.dropna(subset=['description'], inplace=True)\n",
    "predict_data.dropna(subset=['description'], inplace=True)"
   ]
  },
  {
   "cell_type": "code",
   "execution_count": 4,
   "id": "c9717cdd",
   "metadata": {},
   "outputs": [
    {
     "name": "stderr",
     "output_type": "stream",
     "text": [
      "C:\\Users\\LatimerJ\\AppData\\Local\\Temp\\4\\ipykernel_13920\\2748132554.py:3: SettingWithCopyWarning: \n",
      "A value is trying to be set on a copy of a slice from a DataFrame.\n",
      "Try using .loc[row_indexer,col_indexer] = value instead\n",
      "\n",
      "See the caveats in the documentation: https://pandas.pydata.org/pandas-docs/stable/user_guide/indexing.html#returning-a-view-versus-a-copy\n",
      "  train_data['target'] = label_encoder.fit_transform(train_data['source_code_description'])\n",
      "C:\\Users\\LatimerJ\\AppData\\Local\\Temp\\4\\ipykernel_13920\\2748132554.py:22: SettingWithCopyWarning: \n",
      "A value is trying to be set on a copy of a slice from a DataFrame.\n",
      "Try using .loc[row_indexer,col_indexer] = value instead\n",
      "\n",
      "See the caveats in the documentation: https://pandas.pydata.org/pandas-docs/stable/user_guide/indexing.html#returning-a-view-versus-a-copy\n",
      "  predict_data['predicted_source_code_description'] = label_encoder.inverse_transform(y_predict)\n"
     ]
    }
   ],
   "source": [
    "# Label encode the target variable for training data\n",
    "label_encoder = LabelEncoder()\n",
    "train_data['target'] = label_encoder.fit_transform(train_data['source_code_description'])\n",
    "\n",
    "# Vectorize the 'description' column using Count Vectorizer for training data\n",
    "vectorizer = TfidfVectorizer()\n",
    "X_train = vectorizer.fit_transform(train_data['description'])\n",
    "\n",
    "# Extract the target variable for training data\n",
    "y_train = train_data['target']\n",
    "\n",
    "\n",
    "# Train a multinomial logistic regression model\n",
    "model = LogisticRegression(multi_class='multinomial', solver='lbfgs', max_iter=1000)\n",
    "model.fit(X_train, y_train)\n",
    "\n",
    "# Vectorize the 'description' column for prediction data\n",
    "X_predict = vectorizer.transform(predict_data['description'])\n",
    "\n",
    "# Predict the 'source_code_description' for the prediction data\n",
    "y_predict = model.predict(X_predict)\n",
    "predict_data['predicted_source_code_description'] = label_encoder.inverse_transform(y_predict)\n",
    "\n",
    "# Combine the results back into the original dataset for comparison or further analysis\n",
    "result_data = pd.concat([train_data, predict_data], ignore_index=True)\n",
    "\n",
    "# Display the predictions for the missing data\n",
    "#print(predict_data[['description', 'predicted_source_code_description']])\n",
    "\n",
    "# If you want to save the results to a new CSV file\n",
    "result_data.to_csv('predicted_2024_03_numunit_withOMOPtarget.csv', index=False)"
   ]
  },
  {
   "cell_type": "code",
   "execution_count": null,
   "id": "0f9745fb",
   "metadata": {},
   "outputs": [],
   "source": []
  }
 ],
 "metadata": {
  "kernelspec": {
   "display_name": "Python 3 (ipykernel)",
   "language": "python",
   "name": "python3"
  },
  "language_info": {
   "codemirror_mode": {
    "name": "ipython",
    "version": 3
   },
   "file_extension": ".py",
   "mimetype": "text/x-python",
   "name": "python",
   "nbconvert_exporter": "python",
   "pygments_lexer": "ipython3",
   "version": "3.9.12"
  }
 },
 "nbformat": 4,
 "nbformat_minor": 5
}
